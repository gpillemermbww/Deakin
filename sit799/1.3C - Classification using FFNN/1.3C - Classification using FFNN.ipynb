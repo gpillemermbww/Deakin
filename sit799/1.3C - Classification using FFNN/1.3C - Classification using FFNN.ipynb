{
 "cells": [
  {
   "cell_type": "markdown",
   "metadata": {
    "id": "QPYLmAm2y374"
   },
   "source": [
    "Welcome to your assignment this week! \n",
    "\n",
    "\n",
    "# Classification task\n",
    "\n",
    "In this task you are asked to build a simple Feed Forward Neural Network, train it and test it!\n",
    "\n",
    "\n",
    "**After this assignment you will be able to:**\n",
    "\n",
    "- Load a dataset.\n",
    "- Train a Feed Forward Neural Network.\n",
    "- Test a Feed Forward Neural Network.\n",
    "\n",
    "Let's get started! Run the following cell to install all the packages you will need."
   ]
  },
  {
   "cell_type": "code",
   "execution_count": 1,
   "metadata": {
    "id": "MwVJpPoAy374"
   },
   "outputs": [],
   "source": [
    "# !pip install numpy\n",
    "# !pip install keras\n",
    "# !pip install tensorflow\n",
    "# !pip install pandas\n",
    "# !pip install matplotlib\n",
    "# !pip install sklearn"
   ]
  },
  {
   "cell_type": "markdown",
   "metadata": {},
   "source": [
    "if you are using GoogleColab, please install the following packages and mount your Google drive:"
   ]
  },
  {
   "cell_type": "code",
   "execution_count": null,
   "metadata": {},
   "outputs": [],
   "source": [
    "# !apt-get install texlive-xetex texlive-fonts-recommended texlive-generic-recommended  2> /dev/null  > /dev/null \n",
    "# !apt-get install pandoc 2> /dev/null  > /dev/null \n",
    "\n",
    "# from google.colab import drive\n",
    "# drive.mount('/content/drive')\n"
   ]
  },
  {
   "cell_type": "markdown",
   "metadata": {
    "id": "x67z_R3_y375"
   },
   "source": [
    "Run the following cell to load the packages you will need."
   ]
  },
  {
   "cell_type": "code",
   "execution_count": 64,
   "metadata": {
    "id": "0K67BsATy375"
   },
   "outputs": [],
   "source": [
    "import numpy as np # linear algebra\n",
    "import pandas as pd # data processing, CSV file I/O (e.g. pd.read_csv)\n",
    "from sklearn.model_selection import train_test_split\n",
    "import matplotlib.pyplot as plt\n",
    "import keras\n",
    "from keras.models import Sequential\n",
    "from keras.layers import Dense"
   ]
  },
  {
   "cell_type": "markdown",
   "metadata": {
    "id": "wiJC_sYzy375"
   },
   "source": [
    "The dataset we will use consists of 4500 examples with 512 features. A label is given for each example to indicate positive and negative instances.\n",
    "\n",
    "Let's read the data."
   ]
  },
  {
   "cell_type": "code",
   "execution_count": 31,
   "metadata": {
    "id": "Ltzm-RMuy376"
   },
   "outputs": [],
   "source": [
    "df = pd.read_csv('data.csv')\n",
    "df.set_index('id', inplace=True)"
   ]
  },
  {
   "cell_type": "markdown",
   "metadata": {
    "id": "NnCcO3a6y377"
   },
   "source": [
    "Now, let's split the data into training and test sets."
   ]
  },
  {
   "cell_type": "code",
   "execution_count": 32,
   "metadata": {
    "id": "7WUzliVZy377"
   },
   "outputs": [],
   "source": [
    "X_train, X_test, y_train, y_test = train_test_split(\n",
    "    df.index.values,\n",
    "    df.label.values,\n",
    "    test_size=0.15,\n",
    "    random_state=17,\n",
    "    stratify=df.label.values\n",
    ")\n",
    "df['data_type'] = ['note_set']*df.shape[0]\n",
    "df.loc[X_train, 'data_type'] = 'train'\n",
    "df.loc[X_test, 'data_type'] = 'test'\n",
    "\n",
    "## The data to use:\n",
    "\n",
    "X_train = df[df['data_type']=='train'].iloc[:,:512].values\n",
    "X_test = df[df['data_type']=='test'].iloc[:,:512].values\n",
    "y_train = df[df['data_type']=='train'].iloc[:,512:513].values\n",
    "y_test = df[df['data_type']=='test'].iloc[:,512:513].values"
   ]
  },
  {
   "cell_type": "markdown",
   "metadata": {
    "id": "0Ga4DGNTy377"
   },
   "source": [
    "# Task 1\n",
    "\n",
    "Build a Feed Forward Neural Network to address this classification task using the Keras framework."
   ]
  },
  {
   "cell_type": "code",
   "execution_count": 50,
   "metadata": {
    "id": "i8d-psy2y378"
   },
   "outputs": [],
   "source": [
    "# START YOUR CODE HERE\n",
    "model = Sequential()\n",
    "model.add(Dense(12, input_shape=(512,), activation='relu'))\n",
    "model.add(Dense(8, activation='relu'))\n",
    "model.add(Dense(1, activation='sigmoid'))\n",
    "model.compile(loss='binary_crossentropy', optimizer='adam', metrics=['accuracy'])\n"
   ]
  },
  {
   "cell_type": "markdown",
   "metadata": {
    "id": "xwfUGs9Ty378"
   },
   "source": [
    "# Training\n",
    "\n",
    "Now, let's start our training."
   ]
  },
  {
   "cell_type": "code",
   "execution_count": 51,
   "metadata": {
    "id": "Fn7fPEvTy378"
   },
   "outputs": [
    {
     "name": "stdout",
     "output_type": "stream",
     "text": [
      "Epoch 1/200\n",
      "60/60 [==============================] - 0s 945us/step - loss: 0.5800 - accuracy: 0.7022\n",
      "Epoch 2/200\n",
      "60/60 [==============================] - 0s 973us/step - loss: 0.2954 - accuracy: 0.9132\n",
      "Epoch 3/200\n",
      "60/60 [==============================] - 0s 946us/step - loss: 0.1390 - accuracy: 0.9731\n",
      "Epoch 4/200\n",
      "60/60 [==============================] - 0s 1ms/step - loss: 0.0639 - accuracy: 0.9932\n",
      "Epoch 5/200\n",
      "60/60 [==============================] - 0s 963us/step - loss: 0.0313 - accuracy: 0.9979\n",
      "Epoch 6/200\n",
      "60/60 [==============================] - 0s 1ms/step - loss: 0.0169 - accuracy: 0.9997\n",
      "Epoch 7/200\n",
      "60/60 [==============================] - 0s 1ms/step - loss: 0.0103 - accuracy: 1.0000\n",
      "Epoch 8/200\n",
      "60/60 [==============================] - 0s 964us/step - loss: 0.0068 - accuracy: 1.0000\n",
      "Epoch 9/200\n",
      "60/60 [==============================] - 0s 953us/step - loss: 0.0048 - accuracy: 1.0000\n",
      "Epoch 10/200\n",
      "60/60 [==============================] - 0s 975us/step - loss: 0.0036 - accuracy: 1.0000\n",
      "Epoch 11/200\n",
      "60/60 [==============================] - 0s 963us/step - loss: 0.0027 - accuracy: 1.0000\n",
      "Epoch 12/200\n",
      "60/60 [==============================] - 0s 1ms/step - loss: 0.0022 - accuracy: 1.0000\n",
      "Epoch 13/200\n",
      "60/60 [==============================] - 0s 2ms/step - loss: 0.0018 - accuracy: 1.0000\n",
      "Epoch 14/200\n",
      "60/60 [==============================] - 0s 1ms/step - loss: 0.0015 - accuracy: 1.0000\n",
      "Epoch 15/200\n",
      "60/60 [==============================] - 0s 1ms/step - loss: 0.0012 - accuracy: 1.0000\n",
      "Epoch 16/200\n",
      "60/60 [==============================] - 0s 1ms/step - loss: 0.0010 - accuracy: 1.0000\n",
      "Epoch 17/200\n",
      "60/60 [==============================] - 0s 1ms/step - loss: 8.9882e-04 - accuracy: 1.0000\n",
      "Epoch 18/200\n",
      "60/60 [==============================] - 0s 1ms/step - loss: 7.8152e-04 - accuracy: 1.0000\n",
      "Epoch 19/200\n",
      "60/60 [==============================] - 0s 996us/step - loss: 6.8597e-04 - accuracy: 1.0000\n",
      "Epoch 20/200\n",
      "60/60 [==============================] - 0s 1ms/step - loss: 6.0613e-04 - accuracy: 1.0000\n",
      "Epoch 21/200\n",
      "60/60 [==============================] - 0s 1ms/step - loss: 5.3974e-04 - accuracy: 1.0000\n",
      "Epoch 22/200\n",
      "60/60 [==============================] - 0s 920us/step - loss: 4.8353e-04 - accuracy: 1.0000\n",
      "Epoch 23/200\n",
      "60/60 [==============================] - 0s 948us/step - loss: 4.3516e-04 - accuracy: 1.0000\n",
      "Epoch 24/200\n",
      "60/60 [==============================] - 0s 924us/step - loss: 3.9346e-04 - accuracy: 1.0000\n",
      "Epoch 25/200\n",
      "60/60 [==============================] - 0s 944us/step - loss: 3.5752e-04 - accuracy: 1.0000\n",
      "Epoch 26/200\n",
      "60/60 [==============================] - 0s 923us/step - loss: 3.2591e-04 - accuracy: 1.0000\n",
      "Epoch 27/200\n",
      "60/60 [==============================] - 0s 962us/step - loss: 2.9811e-04 - accuracy: 1.0000\n",
      "Epoch 28/200\n",
      "60/60 [==============================] - 0s 955us/step - loss: 2.7347e-04 - accuracy: 1.0000\n",
      "Epoch 29/200\n",
      "60/60 [==============================] - 0s 948us/step - loss: 2.5154e-04 - accuracy: 1.0000\n",
      "Epoch 30/200\n",
      "60/60 [==============================] - 0s 959us/step - loss: 2.3200e-04 - accuracy: 1.0000\n",
      "Epoch 31/200\n",
      "60/60 [==============================] - 0s 960us/step - loss: 2.1446e-04 - accuracy: 1.0000\n",
      "Epoch 32/200\n",
      "60/60 [==============================] - 0s 983us/step - loss: 1.9875e-04 - accuracy: 1.0000\n",
      "Epoch 33/200\n",
      "60/60 [==============================] - 0s 1ms/step - loss: 1.8461e-04 - accuracy: 1.0000\n",
      "Epoch 34/200\n",
      "60/60 [==============================] - 0s 1ms/step - loss: 1.7175e-04 - accuracy: 1.0000\n",
      "Epoch 35/200\n",
      "60/60 [==============================] - 0s 1ms/step - loss: 1.6000e-04 - accuracy: 1.0000\n",
      "Epoch 36/200\n",
      "60/60 [==============================] - 0s 1ms/step - loss: 1.4941e-04 - accuracy: 1.0000\n",
      "Epoch 37/200\n",
      "60/60 [==============================] - 0s 1ms/step - loss: 1.3974e-04 - accuracy: 1.0000\n",
      "Epoch 38/200\n",
      "60/60 [==============================] - 0s 1ms/step - loss: 1.3084e-04 - accuracy: 1.0000\n",
      "Epoch 39/200\n",
      "60/60 [==============================] - 0s 1ms/step - loss: 1.2269e-04 - accuracy: 1.0000\n",
      "Epoch 40/200\n",
      "60/60 [==============================] - 0s 974us/step - loss: 1.1526e-04 - accuracy: 1.0000\n",
      "Epoch 41/200\n",
      "60/60 [==============================] - 0s 954us/step - loss: 1.0831e-04 - accuracy: 1.0000\n",
      "Epoch 42/200\n",
      "60/60 [==============================] - 0s 986us/step - loss: 1.0195e-04 - accuracy: 1.0000\n",
      "Epoch 43/200\n",
      "60/60 [==============================] - 0s 945us/step - loss: 9.6036e-05 - accuracy: 1.0000\n",
      "Epoch 44/200\n",
      "60/60 [==============================] - 0s 949us/step - loss: 9.0549e-05 - accuracy: 1.0000\n",
      "Epoch 45/200\n",
      "60/60 [==============================] - 0s 934us/step - loss: 8.5507e-05 - accuracy: 1.0000\n",
      "Epoch 46/200\n",
      "60/60 [==============================] - 0s 941us/step - loss: 8.0810e-05 - accuracy: 1.0000\n",
      "Epoch 47/200\n",
      "60/60 [==============================] - 0s 1ms/step - loss: 7.6429e-05 - accuracy: 1.0000\n",
      "Epoch 48/200\n",
      "60/60 [==============================] - 0s 962us/step - loss: 7.2335e-05 - accuracy: 1.0000\n",
      "Epoch 49/200\n",
      "60/60 [==============================] - 0s 987us/step - loss: 6.8542e-05 - accuracy: 1.0000\n",
      "Epoch 50/200\n",
      "60/60 [==============================] - 0s 985us/step - loss: 6.4987e-05 - accuracy: 1.0000\n",
      "Epoch 51/200\n",
      "60/60 [==============================] - 0s 979us/step - loss: 6.1666e-05 - accuracy: 1.0000\n",
      "Epoch 52/200\n",
      "60/60 [==============================] - 0s 943us/step - loss: 5.8543e-05 - accuracy: 1.0000\n",
      "Epoch 53/200\n",
      "60/60 [==============================] - 0s 970us/step - loss: 5.5628e-05 - accuracy: 1.0000\n",
      "Epoch 54/200\n",
      "60/60 [==============================] - 0s 961us/step - loss: 5.2881e-05 - accuracy: 1.0000\n",
      "Epoch 55/200\n",
      "60/60 [==============================] - 0s 925us/step - loss: 5.0303e-05 - accuracy: 1.0000\n",
      "Epoch 56/200\n",
      "60/60 [==============================] - 0s 891us/step - loss: 4.7873e-05 - accuracy: 1.0000\n",
      "Epoch 57/200\n",
      "60/60 [==============================] - 0s 881us/step - loss: 4.5587e-05 - accuracy: 1.0000\n",
      "Epoch 58/200\n",
      "60/60 [==============================] - 0s 906us/step - loss: 4.3437e-05 - accuracy: 1.0000\n",
      "Epoch 59/200\n",
      "60/60 [==============================] - 0s 878us/step - loss: 4.1401e-05 - accuracy: 1.0000\n",
      "Epoch 60/200\n",
      "60/60 [==============================] - 0s 907us/step - loss: 3.9492e-05 - accuracy: 1.0000\n",
      "Epoch 61/200\n",
      "60/60 [==============================] - 0s 933us/step - loss: 3.7690e-05 - accuracy: 1.0000\n",
      "Epoch 62/200\n",
      "60/60 [==============================] - 0s 916us/step - loss: 3.5966e-05 - accuracy: 1.0000\n",
      "Epoch 63/200\n",
      "60/60 [==============================] - 0s 927us/step - loss: 3.4347e-05 - accuracy: 1.0000\n",
      "Epoch 64/200\n",
      "60/60 [==============================] - 0s 875us/step - loss: 3.2814e-05 - accuracy: 1.0000\n",
      "Epoch 65/200\n",
      "60/60 [==============================] - 0s 902us/step - loss: 3.1362e-05 - accuracy: 1.0000\n",
      "Epoch 66/200\n",
      "60/60 [==============================] - 0s 941us/step - loss: 2.9985e-05 - accuracy: 1.0000\n",
      "Epoch 67/200\n",
      "60/60 [==============================] - 0s 941us/step - loss: 2.8681e-05 - accuracy: 1.0000\n",
      "Epoch 68/200\n",
      "60/60 [==============================] - 0s 955us/step - loss: 2.7444e-05 - accuracy: 1.0000\n",
      "Epoch 69/200\n",
      "60/60 [==============================] - 0s 886us/step - loss: 2.6260e-05 - accuracy: 1.0000\n",
      "Epoch 70/200\n",
      "60/60 [==============================] - 0s 927us/step - loss: 2.5138e-05 - accuracy: 1.0000\n",
      "Epoch 71/200\n",
      "60/60 [==============================] - 0s 898us/step - loss: 2.4074e-05 - accuracy: 1.0000\n",
      "Epoch 72/200\n",
      "60/60 [==============================] - 0s 870us/step - loss: 2.3062e-05 - accuracy: 1.0000\n",
      "Epoch 73/200\n",
      "60/60 [==============================] - 0s 926us/step - loss: 2.2098e-05 - accuracy: 1.0000\n",
      "Epoch 74/200\n",
      "60/60 [==============================] - 0s 902us/step - loss: 2.1179e-05 - accuracy: 1.0000\n",
      "Epoch 75/200\n",
      "60/60 [==============================] - 0s 943us/step - loss: 2.0304e-05 - accuracy: 1.0000\n",
      "Epoch 76/200\n",
      "60/60 [==============================] - 0s 962us/step - loss: 1.9468e-05 - accuracy: 1.0000\n",
      "Epoch 77/200\n",
      "60/60 [==============================] - 0s 1ms/step - loss: 1.8679e-05 - accuracy: 1.0000\n",
      "Epoch 78/200\n",
      "60/60 [==============================] - 0s 992us/step - loss: 1.7918e-05 - accuracy: 1.0000\n",
      "Epoch 79/200\n"
     ]
    },
    {
     "name": "stdout",
     "output_type": "stream",
     "text": [
      "60/60 [==============================] - 0s 982us/step - loss: 1.7197e-05 - accuracy: 1.0000\n",
      "Epoch 80/200\n",
      "60/60 [==============================] - 0s 955us/step - loss: 1.6507e-05 - accuracy: 1.0000\n",
      "Epoch 81/200\n",
      "60/60 [==============================] - 0s 914us/step - loss: 1.5847e-05 - accuracy: 1.0000\n",
      "Epoch 82/200\n",
      "60/60 [==============================] - 0s 966us/step - loss: 1.5220e-05 - accuracy: 1.0000\n",
      "Epoch 83/200\n",
      "60/60 [==============================] - 0s 992us/step - loss: 1.4614e-05 - accuracy: 1.0000\n",
      "Epoch 84/200\n",
      "60/60 [==============================] - 0s 978us/step - loss: 1.4039e-05 - accuracy: 1.0000\n",
      "Epoch 85/200\n",
      "60/60 [==============================] - 0s 994us/step - loss: 1.3491e-05 - accuracy: 1.0000\n",
      "Epoch 86/200\n",
      "60/60 [==============================] - 0s 979us/step - loss: 1.2963e-05 - accuracy: 1.0000\n",
      "Epoch 87/200\n",
      "60/60 [==============================] - 0s 956us/step - loss: 1.2461e-05 - accuracy: 1.0000\n",
      "Epoch 88/200\n",
      "60/60 [==============================] - 0s 978us/step - loss: 1.1979e-05 - accuracy: 1.0000\n",
      "Epoch 89/200\n",
      "60/60 [==============================] - 0s 945us/step - loss: 1.1515e-05 - accuracy: 1.0000\n",
      "Epoch 90/200\n",
      "60/60 [==============================] - 0s 970us/step - loss: 1.1075e-05 - accuracy: 1.0000\n",
      "Epoch 91/200\n",
      "60/60 [==============================] - 0s 980us/step - loss: 1.0650e-05 - accuracy: 1.0000\n",
      "Epoch 92/200\n",
      "60/60 [==============================] - 0s 983us/step - loss: 1.0243e-05 - accuracy: 1.0000\n",
      "Epoch 93/200\n",
      "60/60 [==============================] - 0s 979us/step - loss: 9.8577e-06 - accuracy: 1.0000\n",
      "Epoch 94/200\n",
      "60/60 [==============================] - 0s 965us/step - loss: 9.4833e-06 - accuracy: 1.0000\n",
      "Epoch 95/200\n",
      "60/60 [==============================] - 0s 988us/step - loss: 9.1266e-06 - accuracy: 1.0000\n",
      "Epoch 96/200\n",
      "60/60 [==============================] - 0s 991us/step - loss: 8.7850e-06 - accuracy: 1.0000\n",
      "Epoch 97/200\n",
      "60/60 [==============================] - 0s 971us/step - loss: 8.4537e-06 - accuracy: 1.0000\n",
      "Epoch 98/200\n",
      "60/60 [==============================] - 0s 957us/step - loss: 8.1407e-06 - accuracy: 1.0000\n",
      "Epoch 99/200\n",
      "60/60 [==============================] - 0s 981us/step - loss: 7.8382e-06 - accuracy: 1.0000\n",
      "Epoch 100/200\n",
      "60/60 [==============================] - 0s 987us/step - loss: 7.5467e-06 - accuracy: 1.0000\n",
      "Epoch 101/200\n",
      "60/60 [==============================] - 0s 953us/step - loss: 7.2668e-06 - accuracy: 1.0000\n",
      "Epoch 102/200\n",
      "60/60 [==============================] - 0s 976us/step - loss: 6.9995e-06 - accuracy: 1.0000\n",
      "Epoch 103/200\n",
      "60/60 [==============================] - 0s 968us/step - loss: 6.7424e-06 - accuracy: 1.0000\n",
      "Epoch 104/200\n",
      "60/60 [==============================] - 0s 987us/step - loss: 6.4948e-06 - accuracy: 1.0000\n",
      "Epoch 105/200\n",
      "60/60 [==============================] - 0s 1ms/step - loss: 6.2575e-06 - accuracy: 1.0000\n",
      "Epoch 106/200\n",
      "60/60 [==============================] - 0s 1ms/step - loss: 6.0310e-06 - accuracy: 1.0000\n",
      "Epoch 107/200\n",
      "60/60 [==============================] - 0s 1ms/step - loss: 5.8109e-06 - accuracy: 1.0000\n",
      "Epoch 108/200\n",
      "60/60 [==============================] - 0s 980us/step - loss: 5.6001e-06 - accuracy: 1.0000\n",
      "Epoch 109/200\n",
      "60/60 [==============================] - 0s 1ms/step - loss: 5.3974e-06 - accuracy: 1.0000\n",
      "Epoch 110/200\n",
      "60/60 [==============================] - 0s 971us/step - loss: 5.2018e-06 - accuracy: 1.0000\n",
      "Epoch 111/200\n",
      "60/60 [==============================] - 0s 982us/step - loss: 5.0146e-06 - accuracy: 1.0000\n",
      "Epoch 112/200\n",
      "60/60 [==============================] - 0s 1ms/step - loss: 4.8336e-06 - accuracy: 1.0000\n",
      "Epoch 113/200\n",
      "60/60 [==============================] - 0s 975us/step - loss: 4.6597e-06 - accuracy: 1.0000\n",
      "Epoch 114/200\n",
      "60/60 [==============================] - 0s 963us/step - loss: 4.4929e-06 - accuracy: 1.0000\n",
      "Epoch 115/200\n",
      "60/60 [==============================] - 0s 988us/step - loss: 4.3322e-06 - accuracy: 1.0000\n",
      "Epoch 116/200\n",
      "60/60 [==============================] - 0s 987us/step - loss: 4.1782e-06 - accuracy: 1.0000\n",
      "Epoch 117/200\n",
      "60/60 [==============================] - 0s 996us/step - loss: 4.0288e-06 - accuracy: 1.0000\n",
      "Epoch 118/200\n",
      "60/60 [==============================] - 0s 1ms/step - loss: 3.8855e-06 - accuracy: 1.0000\n",
      "Epoch 119/200\n",
      "60/60 [==============================] - 0s 975us/step - loss: 3.7478e-06 - accuracy: 1.0000\n",
      "Epoch 120/200\n",
      "60/60 [==============================] - 0s 961us/step - loss: 3.6154e-06 - accuracy: 1.0000\n",
      "Epoch 121/200\n",
      "60/60 [==============================] - 0s 996us/step - loss: 3.4868e-06 - accuracy: 1.0000\n",
      "Epoch 122/200\n",
      "60/60 [==============================] - 0s 988us/step - loss: 3.3639e-06 - accuracy: 1.0000\n",
      "Epoch 123/200\n",
      "60/60 [==============================] - 0s 979us/step - loss: 3.2451e-06 - accuracy: 1.0000\n",
      "Epoch 124/200\n",
      "60/60 [==============================] - 0s 975us/step - loss: 3.1313e-06 - accuracy: 1.0000\n",
      "Epoch 125/200\n",
      "60/60 [==============================] - 0s 1ms/step - loss: 3.0209e-06 - accuracy: 1.0000\n",
      "Epoch 126/200\n",
      "60/60 [==============================] - 0s 980us/step - loss: 2.9155e-06 - accuracy: 1.0000\n",
      "Epoch 127/200\n",
      "60/60 [==============================] - 0s 1ms/step - loss: 2.8133e-06 - accuracy: 1.0000\n",
      "Epoch 128/200\n",
      "60/60 [==============================] - 0s 1ms/step - loss: 2.7145e-06 - accuracy: 1.0000\n",
      "Epoch 129/200\n",
      "60/60 [==============================] - 0s 1000us/step - loss: 2.6196e-06 - accuracy: 1.0000\n",
      "Epoch 130/200\n",
      "60/60 [==============================] - 0s 982us/step - loss: 2.5282e-06 - accuracy: 1.0000\n",
      "Epoch 131/200\n",
      "60/60 [==============================] - 0s 1ms/step - loss: 2.4400e-06 - accuracy: 1.0000\n",
      "Epoch 132/200\n",
      "60/60 [==============================] - 0s 1ms/step - loss: 2.3548e-06 - accuracy: 1.0000\n",
      "Epoch 133/200\n",
      "60/60 [==============================] - 0s 970us/step - loss: 2.2734e-06 - accuracy: 1.0000\n",
      "Epoch 134/200\n",
      "60/60 [==============================] - 0s 995us/step - loss: 2.1942e-06 - accuracy: 1.0000\n",
      "Epoch 135/200\n",
      "60/60 [==============================] - 0s 965us/step - loss: 2.1179e-06 - accuracy: 1.0000\n",
      "Epoch 136/200\n",
      "60/60 [==============================] - 0s 961us/step - loss: 2.0441e-06 - accuracy: 1.0000\n",
      "Epoch 137/200\n",
      "60/60 [==============================] - 0s 980us/step - loss: 1.9734e-06 - accuracy: 1.0000\n",
      "Epoch 138/200\n",
      "60/60 [==============================] - 0s 1ms/step - loss: 1.9052e-06 - accuracy: 1.0000\n",
      "Epoch 139/200\n",
      "60/60 [==============================] - 0s 988us/step - loss: 1.8398e-06 - accuracy: 1.0000\n",
      "Epoch 140/200\n",
      "60/60 [==============================] - 0s 975us/step - loss: 1.7762e-06 - accuracy: 1.0000\n",
      "Epoch 141/200\n",
      "60/60 [==============================] - 0s 968us/step - loss: 1.7152e-06 - accuracy: 1.0000\n",
      "Epoch 142/200\n",
      "60/60 [==============================] - 0s 965us/step - loss: 1.6561e-06 - accuracy: 1.0000\n",
      "Epoch 143/200\n",
      "60/60 [==============================] - 0s 988us/step - loss: 1.5994e-06 - accuracy: 1.0000\n",
      "Epoch 144/200\n",
      "60/60 [==============================] - 0s 973us/step - loss: 1.5446e-06 - accuracy: 1.0000\n",
      "Epoch 145/200\n",
      "60/60 [==============================] - 0s 997us/step - loss: 1.4914e-06 - accuracy: 1.0000\n",
      "Epoch 146/200\n",
      "60/60 [==============================] - 0s 1000us/step - loss: 1.4407e-06 - accuracy: 1.0000\n",
      "Epoch 147/200\n",
      "60/60 [==============================] - 0s 964us/step - loss: 1.3912e-06 - accuracy: 1.0000\n",
      "Epoch 148/200\n",
      "60/60 [==============================] - 0s 976us/step - loss: 1.3438e-06 - accuracy: 1.0000\n",
      "Epoch 149/200\n",
      "60/60 [==============================] - 0s 982us/step - loss: 1.2978e-06 - accuracy: 1.0000\n",
      "Epoch 150/200\n",
      "60/60 [==============================] - 0s 994us/step - loss: 1.2537e-06 - accuracy: 1.0000\n",
      "Epoch 151/200\n",
      "60/60 [==============================] - 0s 957us/step - loss: 1.2109e-06 - accuracy: 1.0000\n",
      "Epoch 152/200\n",
      "60/60 [==============================] - 0s 1ms/step - loss: 1.1695e-06 - accuracy: 1.0000\n",
      "Epoch 153/200\n",
      "60/60 [==============================] - 0s 967us/step - loss: 1.1297e-06 - accuracy: 1.0000\n",
      "Epoch 154/200\n",
      "60/60 [==============================] - 0s 973us/step - loss: 1.0917e-06 - accuracy: 1.0000\n",
      "Epoch 155/200\n",
      "60/60 [==============================] - 0s 1ms/step - loss: 1.0542e-06 - accuracy: 1.0000\n",
      "Epoch 156/200\n"
     ]
    },
    {
     "name": "stdout",
     "output_type": "stream",
     "text": [
      "60/60 [==============================] - 0s 984us/step - loss: 1.0187e-06 - accuracy: 1.0000\n",
      "Epoch 157/200\n",
      "60/60 [==============================] - 0s 970us/step - loss: 9.8408e-07 - accuracy: 1.0000\n",
      "Epoch 158/200\n",
      "60/60 [==============================] - 0s 986us/step - loss: 9.5064e-07 - accuracy: 1.0000\n",
      "Epoch 159/200\n",
      "60/60 [==============================] - 0s 970us/step - loss: 9.1848e-07 - accuracy: 1.0000\n",
      "Epoch 160/200\n",
      "60/60 [==============================] - 0s 978us/step - loss: 8.8748e-07 - accuracy: 1.0000\n",
      "Epoch 161/200\n",
      "60/60 [==============================] - 0s 1ms/step - loss: 8.5756e-07 - accuracy: 1.0000\n",
      "Epoch 162/200\n",
      "60/60 [==============================] - 0s 977us/step - loss: 8.2870e-07 - accuracy: 1.0000\n",
      "Epoch 163/200\n",
      "60/60 [==============================] - 0s 939us/step - loss: 8.0060e-07 - accuracy: 1.0000\n",
      "Epoch 164/200\n",
      "60/60 [==============================] - 0s 987us/step - loss: 7.7376e-07 - accuracy: 1.0000\n",
      "Epoch 165/200\n",
      "60/60 [==============================] - 0s 981us/step - loss: 7.4772e-07 - accuracy: 1.0000\n",
      "Epoch 166/200\n",
      "60/60 [==============================] - 0s 965us/step - loss: 7.2238e-07 - accuracy: 1.0000\n",
      "Epoch 167/200\n",
      "60/60 [==============================] - 0s 980us/step - loss: 6.9826e-07 - accuracy: 1.0000\n",
      "Epoch 168/200\n",
      "60/60 [==============================] - 0s 963us/step - loss: 6.7466e-07 - accuracy: 1.0000\n",
      "Epoch 169/200\n",
      "60/60 [==============================] - 0s 975us/step - loss: 6.5182e-07 - accuracy: 1.0000\n",
      "Epoch 170/200\n",
      "60/60 [==============================] - 0s 996us/step - loss: 6.2995e-07 - accuracy: 1.0000\n",
      "Epoch 171/200\n",
      "60/60 [==============================] - 0s 1ms/step - loss: 6.0897e-07 - accuracy: 1.0000\n",
      "Epoch 172/200\n",
      "60/60 [==============================] - 0s 1ms/step - loss: 5.8859e-07 - accuracy: 1.0000\n",
      "Epoch 173/200\n",
      "60/60 [==============================] - 0s 982us/step - loss: 5.6884e-07 - accuracy: 1.0000\n",
      "Epoch 174/200\n",
      "60/60 [==============================] - 0s 948us/step - loss: 5.4988e-07 - accuracy: 1.0000\n",
      "Epoch 175/200\n",
      "60/60 [==============================] - 0s 926us/step - loss: 5.3158e-07 - accuracy: 1.0000\n",
      "Epoch 176/200\n",
      "60/60 [==============================] - 0s 931us/step - loss: 5.1379e-07 - accuracy: 1.0000\n",
      "Epoch 177/200\n",
      "60/60 [==============================] - 0s 975us/step - loss: 4.9670e-07 - accuracy: 1.0000\n",
      "Epoch 178/200\n",
      "60/60 [==============================] - 0s 1ms/step - loss: 4.8007e-07 - accuracy: 1.0000\n",
      "Epoch 179/200\n",
      "60/60 [==============================] - 0s 984us/step - loss: 4.6405e-07 - accuracy: 1.0000\n",
      "Epoch 180/200\n",
      "60/60 [==============================] - 0s 1ms/step - loss: 4.4859e-07 - accuracy: 1.0000\n",
      "Epoch 181/200\n",
      "60/60 [==============================] - 0s 1ms/step - loss: 4.3367e-07 - accuracy: 1.0000\n",
      "Epoch 182/200\n",
      "60/60 [==============================] - 0s 993us/step - loss: 4.1920e-07 - accuracy: 1.0000\n",
      "Epoch 183/200\n",
      "60/60 [==============================] - 0s 974us/step - loss: 4.0526e-07 - accuracy: 1.0000\n",
      "Epoch 184/200\n",
      "60/60 [==============================] - 0s 989us/step - loss: 3.9185e-07 - accuracy: 1.0000\n",
      "Epoch 185/200\n",
      "60/60 [==============================] - 0s 1ms/step - loss: 3.7882e-07 - accuracy: 1.0000\n",
      "Epoch 186/200\n",
      "60/60 [==============================] - 0s 946us/step - loss: 3.6628e-07 - accuracy: 1.0000\n",
      "Epoch 187/200\n",
      "60/60 [==============================] - 0s 927us/step - loss: 3.5404e-07 - accuracy: 1.0000\n",
      "Epoch 188/200\n",
      "60/60 [==============================] - 0s 942us/step - loss: 3.4236e-07 - accuracy: 1.0000\n",
      "Epoch 189/200\n",
      "60/60 [==============================] - 0s 940us/step - loss: 3.3100e-07 - accuracy: 1.0000\n",
      "Epoch 190/200\n",
      "60/60 [==============================] - 0s 955us/step - loss: 3.2001e-07 - accuracy: 1.0000\n",
      "Epoch 191/200\n",
      "60/60 [==============================] - 0s 917us/step - loss: 3.0939e-07 - accuracy: 1.0000\n",
      "Epoch 192/200\n",
      "60/60 [==============================] - 0s 1ms/step - loss: 2.9917e-07 - accuracy: 1.0000\n",
      "Epoch 193/200\n",
      "60/60 [==============================] - 0s 972us/step - loss: 2.8933e-07 - accuracy: 1.0000\n",
      "Epoch 194/200\n",
      "60/60 [==============================] - 0s 964us/step - loss: 2.7977e-07 - accuracy: 1.0000\n",
      "Epoch 195/200\n",
      "60/60 [==============================] - 0s 1ms/step - loss: 2.7059e-07 - accuracy: 1.0000\n",
      "Epoch 196/200\n",
      "60/60 [==============================] - 0s 1ms/step - loss: 2.6158e-07 - accuracy: 1.0000\n",
      "Epoch 197/200\n",
      "60/60 [==============================] - 0s 2ms/step - loss: 2.5292e-07 - accuracy: 1.0000\n",
      "Epoch 198/200\n",
      "60/60 [==============================] - 0s 1ms/step - loss: 2.4464e-07 - accuracy: 1.0000\n",
      "Epoch 199/200\n",
      "60/60 [==============================] - 0s 1ms/step - loss: 2.3655e-07 - accuracy: 1.0000\n",
      "Epoch 200/200\n",
      "60/60 [==============================] - 0s 1ms/step - loss: 2.2881e-07 - accuracy: 1.0000\n"
     ]
    }
   ],
   "source": [
    "history = model.fit(X_train, y_train, epochs=200, batch_size=64, verbose=1)"
   ]
  },
  {
   "cell_type": "code",
   "execution_count": 52,
   "metadata": {
    "id": "IMYgz8nAy378"
   },
   "outputs": [
    {
     "data": {
      "image/png": "[encoded data removed]",
      "text/plain": [
       "<Figure size 432x288 with 1 Axes>"
      ]
     },
     "metadata": {
      "needs_background": "light"
     },
     "output_type": "display_data"
    },
    {
     "data": {
      "image/png": "[encoded data removed]",
      "text/plain": [
       "<Figure size 432x288 with 1 Axes>"
      ]
     },
     "metadata": {
      "needs_background": "light"
     },
     "output_type": "display_data"
    }
   ],
   "source": [
    "acc = history.history['accuracy']\n",
    "loss = history.history['loss']\n",
    "epochs = range(len(acc))\n",
    "plt.plot(epochs, acc, 'b', label='Training accuracy')\n",
    "plt.title('Training accuracy')\n",
    "plt.figure()\n",
    "plt.plot(epochs, loss, 'b', label='Training Loss')\n",
    "plt.title('Training loss')\n",
    "plt.legend()\n",
    "plt.show()"
   ]
  },
  {
   "cell_type": "markdown",
   "metadata": {
    "id": "ewyOTi3Ay378"
   },
   "source": [
    "# Task 2\n",
    "\n",
    "Test the model on the test set and report Precision, Recall, F1-Score, and Accuracy."
   ]
  },
  {
   "cell_type": "code",
   "execution_count": 65,
   "metadata": {
    "id": "f7IzXUJBy379"
   },
   "outputs": [
    {
     "name": "stdout",
     "output_type": "stream",
     "text": [
      "11/11 [==============================] - 0s 828us/step\n",
      "              precision    recall  f1-score   support\n",
      "\n",
      "           0       1.00      1.00      1.00       247\n",
      "           1       1.00      1.00      1.00       428\n",
      "\n",
      "    accuracy                           1.00       675\n",
      "   macro avg       1.00      1.00      1.00       675\n",
      "weighted avg       1.00      1.00      1.00       675\n",
      "\n"
     ]
    }
   ],
   "source": [
    "# START YOUR CODE HERE\n",
    "from sklearn.metrics import classification_report\n",
    "\n",
    "y_pred = model.predict(X_test, batch_size=64, verbose=1)\n",
    "\n",
    "print(classification_report(y_test, np.round(y_test)))\n"
   ]
  },
  {
   "cell_type": "markdown",
   "metadata": {},
   "source": [
    "Export your notebook to a pdf document"
   ]
  },
  {
   "cell_type": "markdown",
   "metadata": {
    "id": "E6vau2ijy379"
   },
   "source": [
    "# Congratulations!\n",
    "\n",
    "You've come to the end of this assignment, and you have built your first neural network. \n",
    "\n",
    "Congratulations on finishing this notebook! \n",
    "\n"
   ]
  }
 ],
 "metadata": {
  "colab": {
   "name": "1.3C - Classification using FFNN.ipynb",
   "provenance": []
  },
  "coursera": {
   "course_slug": "nlp-sequence-models",
   "graded_item_id": "8hb5s",
   "launcher_item_id": "5NrJ6"
  },
  "kernelspec": {
   "display_name": "Python 3 (ipykernel)",
   "language": "python",
   "name": "python3"
  },
  "language_info": {
   "codemirror_mode": {
    "name": "ipython",
    "version": 3
   },
   "file_extension": ".py",
   "mimetype": "text/x-python",
   "name": "python",
   "nbconvert_exporter": "python",
   "pygments_lexer": "ipython3",
   "version": "3.9.7"
  },
  "latex_envs": {
   "LaTeX_envs_menu_present": true,
   "autoclose": false,
   "autocomplete": true,
   "bibliofile": "biblio.bib",
   "cite_by": "apalike",
   "current_citInitial": 1,
   "eqLabelWithNumbers": true,
   "eqNumInitial": 1,
   "hotkeys": {
    "equation": "Ctrl-E",
    "itemize": "Ctrl-I"
   },
   "labels_anchors": false,
   "latex_user_defs": false,
   "report_style_numbering": false,
   "user_envs_cfg": false
  },
  "toc": {
   "base_numbering": 1,
   "nav_menu": {},
   "number_sections": true,
   "sideBar": true,
   "skip_h1_title": false,
   "title_cell": "Table of Contents",
   "title_sidebar": "Contents",
   "toc_cell": false,
   "toc_position": {},
   "toc_section_display": true,
   "toc_window_display": false
  }
 },
 "nbformat": 4,
 "nbformat_minor": 1
}
